{
 "cells": [
  {
   "cell_type": "code",
   "execution_count": 1,
   "id": "186f36bd",
   "metadata": {
    "vscode": {
     "languageId": "julia"
    }
   },
   "outputs": [],
   "source": [
    "using CSV, DataFrames, DecisionTree, StatsBase"
   ]
  },
  {
   "cell_type": "code",
   "execution_count": 2,
   "id": "f7a7cb29",
   "metadata": {
    "vscode": {
     "languageId": "julia"
    }
   },
   "outputs": [
    {
     "data": {
      "text/html": [
       "<div><div style = \"float: left;\"><span>24×5 DataFrame</span></div><div style = \"clear: both;\"></div></div><div class = \"data-frame\" style = \"overflow-x: scroll;\"><table class = \"data-frame\" style = \"margin-bottom: 6px;\"><thead><tr class = \"header\"><th class = \"rowNumber\" style = \"font-weight: bold; text-align: right;\">Row</th><th style = \"text-align: left;\">Age           </th><th style = \"text-align: left;\"> Spectacle   </th><th style = \"text-align: left;\"> Astigmatism</th><th style = \"text-align: left;\"> Tear   </th><th style = \"text-align: left;\"> Class</th></tr><tr class = \"subheader headerLastRow\"><th class = \"rowNumber\" style = \"font-weight: bold; text-align: right;\"></th><th title = \"String15\" style = \"text-align: left;\">String15</th><th title = \"String15\" style = \"text-align: left;\">String15</th><th title = \"String15\" style = \"text-align: left;\">String15</th><th title = \"String15\" style = \"text-align: left;\">String15</th><th title = \"String15\" style = \"text-align: left;\">String15</th></tr></thead><tbody><tr><td class = \"rowNumber\" style = \"font-weight: bold; text-align: right;\">1</td><td style = \"text-align: left;\">young         </td><td style = \"text-align: left;\"> myope       </td><td style = \"text-align: left;\"> no         </td><td style = \"text-align: left;\"> reduced</td><td style = \"text-align: left;\"> no lenses</td></tr><tr><td class = \"rowNumber\" style = \"font-weight: bold; text-align: right;\">2</td><td style = \"text-align: left;\">young         </td><td style = \"text-align: left;\"> myope       </td><td style = \"text-align: left;\"> no         </td><td style = \"text-align: left;\"> normal </td><td style = \"text-align: left;\"> soft</td></tr><tr><td class = \"rowNumber\" style = \"font-weight: bold; text-align: right;\">3</td><td style = \"text-align: left;\">young         </td><td style = \"text-align: left;\"> myope       </td><td style = \"text-align: left;\"> yes        </td><td style = \"text-align: left;\"> reduced</td><td style = \"text-align: left;\"> no lenses</td></tr><tr><td class = \"rowNumber\" style = \"font-weight: bold; text-align: right;\">4</td><td style = \"text-align: left;\">young         </td><td style = \"text-align: left;\"> myope       </td><td style = \"text-align: left;\"> yes        </td><td style = \"text-align: left;\"> normal </td><td style = \"text-align: left;\"> hard</td></tr><tr><td class = \"rowNumber\" style = \"font-weight: bold; text-align: right;\">5</td><td style = \"text-align: left;\">young         </td><td style = \"text-align: left;\"> hypermetrope</td><td style = \"text-align: left;\"> no         </td><td style = \"text-align: left;\"> reduced</td><td style = \"text-align: left;\"> no lenses</td></tr><tr><td class = \"rowNumber\" style = \"font-weight: bold; text-align: right;\">6</td><td style = \"text-align: left;\">young         </td><td style = \"text-align: left;\"> hypermetrope</td><td style = \"text-align: left;\"> no         </td><td style = \"text-align: left;\"> normal </td><td style = \"text-align: left;\"> soft</td></tr><tr><td class = \"rowNumber\" style = \"font-weight: bold; text-align: right;\">7</td><td style = \"text-align: left;\">young         </td><td style = \"text-align: left;\"> hypermetrope</td><td style = \"text-align: left;\"> yes        </td><td style = \"text-align: left;\"> reduced</td><td style = \"text-align: left;\"> no lenses</td></tr><tr><td class = \"rowNumber\" style = \"font-weight: bold; text-align: right;\">8</td><td style = \"text-align: left;\">young         </td><td style = \"text-align: left;\"> hypermetrope</td><td style = \"text-align: left;\"> yes        </td><td style = \"text-align: left;\"> normal </td><td style = \"text-align: left;\"> hard</td></tr><tr><td class = \"rowNumber\" style = \"font-weight: bold; text-align: right;\">9</td><td style = \"text-align: left;\">pre-presbyopic</td><td style = \"text-align: left;\"> myope       </td><td style = \"text-align: left;\"> no         </td><td style = \"text-align: left;\"> reduced</td><td style = \"text-align: left;\"> no lenses</td></tr><tr><td class = \"rowNumber\" style = \"font-weight: bold; text-align: right;\">10</td><td style = \"text-align: left;\">pre-presbyopic</td><td style = \"text-align: left;\"> myope       </td><td style = \"text-align: left;\"> no         </td><td style = \"text-align: left;\"> normal </td><td style = \"text-align: left;\"> soft</td></tr><tr><td class = \"rowNumber\" style = \"font-weight: bold; text-align: right;\">11</td><td style = \"text-align: left;\">pre-presbyopic</td><td style = \"text-align: left;\"> myope       </td><td style = \"text-align: left;\"> yes        </td><td style = \"text-align: left;\"> reduced</td><td style = \"text-align: left;\"> no lenses</td></tr><tr><td class = \"rowNumber\" style = \"font-weight: bold; text-align: right;\">12</td><td style = \"text-align: left;\">pre-presbyopic</td><td style = \"text-align: left;\"> myope       </td><td style = \"text-align: left;\"> yes        </td><td style = \"text-align: left;\"> normal </td><td style = \"text-align: left;\"> hard</td></tr><tr><td class = \"rowNumber\" style = \"font-weight: bold; text-align: right;\">13</td><td style = \"text-align: left;\">pre-presbyopic</td><td style = \"text-align: left;\"> hypermetrope</td><td style = \"text-align: left;\"> no         </td><td style = \"text-align: left;\"> reduced</td><td style = \"text-align: left;\"> no lenses</td></tr><tr><td class = \"rowNumber\" style = \"font-weight: bold; text-align: right;\">14</td><td style = \"text-align: left;\">pre-presbyopic</td><td style = \"text-align: left;\"> hypermetrope</td><td style = \"text-align: left;\"> no         </td><td style = \"text-align: left;\"> normal </td><td style = \"text-align: left;\"> soft</td></tr><tr><td class = \"rowNumber\" style = \"font-weight: bold; text-align: right;\">15</td><td style = \"text-align: left;\">pre-presbyopic</td><td style = \"text-align: left;\"> hypermetrope</td><td style = \"text-align: left;\"> yes        </td><td style = \"text-align: left;\"> reduced</td><td style = \"text-align: left;\"> no lenses</td></tr><tr><td class = \"rowNumber\" style = \"font-weight: bold; text-align: right;\">16</td><td style = \"text-align: left;\">pre-presbyopic</td><td style = \"text-align: left;\"> hypermetrope</td><td style = \"text-align: left;\"> yes        </td><td style = \"text-align: left;\"> normal </td><td style = \"text-align: left;\"> no lenses</td></tr><tr><td class = \"rowNumber\" style = \"font-weight: bold; text-align: right;\">17</td><td style = \"text-align: left;\">presbyopic    </td><td style = \"text-align: left;\"> myope       </td><td style = \"text-align: left;\"> no         </td><td style = \"text-align: left;\"> reduced</td><td style = \"text-align: left;\"> no lenses</td></tr><tr><td class = \"rowNumber\" style = \"font-weight: bold; text-align: right;\">18</td><td style = \"text-align: left;\">presbyopic    </td><td style = \"text-align: left;\"> myope       </td><td style = \"text-align: left;\"> no         </td><td style = \"text-align: left;\"> normal </td><td style = \"text-align: left;\"> soft</td></tr><tr><td class = \"rowNumber\" style = \"font-weight: bold; text-align: right;\">19</td><td style = \"text-align: left;\">presbyopic    </td><td style = \"text-align: left;\"> myope       </td><td style = \"text-align: left;\"> yes        </td><td style = \"text-align: left;\"> reduced</td><td style = \"text-align: left;\"> no lenses</td></tr><tr><td class = \"rowNumber\" style = \"font-weight: bold; text-align: right;\">20</td><td style = \"text-align: left;\">presbyopic    </td><td style = \"text-align: left;\"> myope       </td><td style = \"text-align: left;\"> yes        </td><td style = \"text-align: left;\"> normal </td><td style = \"text-align: left;\"> hard</td></tr><tr><td class = \"rowNumber\" style = \"font-weight: bold; text-align: right;\">21</td><td style = \"text-align: left;\">presbyopic    </td><td style = \"text-align: left;\"> hypermetrope</td><td style = \"text-align: left;\"> no         </td><td style = \"text-align: left;\"> reduced</td><td style = \"text-align: left;\"> no lenses</td></tr><tr><td class = \"rowNumber\" style = \"font-weight: bold; text-align: right;\">22</td><td style = \"text-align: left;\">presbyopic    </td><td style = \"text-align: left;\"> hypermetrope</td><td style = \"text-align: left;\"> no         </td><td style = \"text-align: left;\"> normal </td><td style = \"text-align: left;\"> soft</td></tr><tr><td class = \"rowNumber\" style = \"font-weight: bold; text-align: right;\">23</td><td style = \"text-align: left;\">presbyopic    </td><td style = \"text-align: left;\"> hypermetrope</td><td style = \"text-align: left;\"> yes        </td><td style = \"text-align: left;\"> reduced</td><td style = \"text-align: left;\"> no lenses</td></tr><tr><td class = \"rowNumber\" style = \"font-weight: bold; text-align: right;\">24</td><td style = \"text-align: left;\">presbyopic    </td><td style = \"text-align: left;\"> hypermetrope</td><td style = \"text-align: left;\"> yes        </td><td style = \"text-align: left;\"> normal </td><td style = \"text-align: left;\"> no lenses</td></tr></tbody></table></div>"
      ],
      "text/latex": [
       "\\begin{tabular}{r|ccccc}\n",
       "\t& Age            &  Spectacle    &  Astigmatism &  Tear    &  Class\\\\\n",
       "\t\\hline\n",
       "\t& String15 & String15 & String15 & String15 & String15\\\\\n",
       "\t\\hline\n",
       "\t1 & young          &  myope        &  no          &  reduced &  no lenses \\\\\n",
       "\t2 & young          &  myope        &  no          &  normal  &  soft \\\\\n",
       "\t3 & young          &  myope        &  yes         &  reduced &  no lenses \\\\\n",
       "\t4 & young          &  myope        &  yes         &  normal  &  hard \\\\\n",
       "\t5 & young          &  hypermetrope &  no          &  reduced &  no lenses \\\\\n",
       "\t6 & young          &  hypermetrope &  no          &  normal  &  soft \\\\\n",
       "\t7 & young          &  hypermetrope &  yes         &  reduced &  no lenses \\\\\n",
       "\t8 & young          &  hypermetrope &  yes         &  normal  &  hard \\\\\n",
       "\t9 & pre-presbyopic &  myope        &  no          &  reduced &  no lenses \\\\\n",
       "\t10 & pre-presbyopic &  myope        &  no          &  normal  &  soft \\\\\n",
       "\t11 & pre-presbyopic &  myope        &  yes         &  reduced &  no lenses \\\\\n",
       "\t12 & pre-presbyopic &  myope        &  yes         &  normal  &  hard \\\\\n",
       "\t13 & pre-presbyopic &  hypermetrope &  no          &  reduced &  no lenses \\\\\n",
       "\t14 & pre-presbyopic &  hypermetrope &  no          &  normal  &  soft \\\\\n",
       "\t15 & pre-presbyopic &  hypermetrope &  yes         &  reduced &  no lenses \\\\\n",
       "\t16 & pre-presbyopic &  hypermetrope &  yes         &  normal  &  no lenses \\\\\n",
       "\t17 & presbyopic     &  myope        &  no          &  reduced &  no lenses \\\\\n",
       "\t18 & presbyopic     &  myope        &  no          &  normal  &  soft \\\\\n",
       "\t19 & presbyopic     &  myope        &  yes         &  reduced &  no lenses \\\\\n",
       "\t20 & presbyopic     &  myope        &  yes         &  normal  &  hard \\\\\n",
       "\t21 & presbyopic     &  hypermetrope &  no          &  reduced &  no lenses \\\\\n",
       "\t22 & presbyopic     &  hypermetrope &  no          &  normal  &  soft \\\\\n",
       "\t23 & presbyopic     &  hypermetrope &  yes         &  reduced &  no lenses \\\\\n",
       "\t24 & presbyopic     &  hypermetrope &  yes         &  normal  &  no lenses \\\\\n",
       "\\end{tabular}\n"
      ],
      "text/plain": [
       "\u001b[1m24×5 DataFrame\u001b[0m\n",
       "\u001b[1m Row \u001b[0m│\u001b[1m Age            \u001b[0m\u001b[1m  Spectacle    \u001b[0m\u001b[1m  Astigmatism \u001b[0m\u001b[1m  Tear    \u001b[0m\u001b[1m  Class     \u001b[0m\n",
       "     │\u001b[90m String15       \u001b[0m\u001b[90m String15      \u001b[0m\u001b[90m String15     \u001b[0m\u001b[90m String15 \u001b[0m\u001b[90m String15   \u001b[0m\n",
       "─────┼───────────────────────────────────────────────────────────────────\n",
       "   1 │ young            myope          no            reduced   no lenses\n",
       "   2 │ young            myope          no            normal    soft\n",
       "   3 │ young            myope          yes           reduced   no lenses\n",
       "   4 │ young            myope          yes           normal    hard\n",
       "   5 │ young            hypermetrope   no            reduced   no lenses\n",
       "   6 │ young            hypermetrope   no            normal    soft\n",
       "   7 │ young            hypermetrope   yes           reduced   no lenses\n",
       "   8 │ young            hypermetrope   yes           normal    hard\n",
       "  ⋮  │       ⋮               ⋮             ⋮           ⋮          ⋮\n",
       "  18 │ presbyopic       myope          no            normal    soft\n",
       "  19 │ presbyopic       myope          yes           reduced   no lenses\n",
       "  20 │ presbyopic       myope          yes           normal    hard\n",
       "  21 │ presbyopic       hypermetrope   no            reduced   no lenses\n",
       "  22 │ presbyopic       hypermetrope   no            normal    soft\n",
       "  23 │ presbyopic       hypermetrope   yes           reduced   no lenses\n",
       "  24 │ presbyopic       hypermetrope   yes           normal    no lenses\n",
       "\u001b[36m                                                           9 rows omitted\u001b[0m"
      ]
     },
     "metadata": {},
     "output_type": "display_data"
    }
   ],
   "source": [
    "data = CSV.read(\"contact_lens.csv\", DataFrame)"
   ]
  },
  {
   "cell_type": "code",
   "execution_count": 4,
   "id": "62777f8c",
   "metadata": {
    "vscode": {
     "languageId": "julia"
    }
   },
   "outputs": [
    {
     "data": {
      "text/plain": [
       "encode_column (generic function with 1 method)"
      ]
     },
     "metadata": {},
     "output_type": "display_data"
    }
   ],
   "source": [
    "function encode_column(col)\n",
    "    dict = Dict(unique(col) .=> 0:length(unique(col)) .- 1)\n",
    "    return [dict[v] for v in col], dict\n",
    "end"
   ]
  },
  {
   "cell_type": "code",
   "execution_count": 5,
   "id": "b570c059",
   "metadata": {
    "vscode": {
     "languageId": "julia"
    }
   },
   "outputs": [
    {
     "data": {
      "text/html": [
       "<div><div style = \"float: left;\"><span>0×0 DataFrame</span></div><div style = \"clear: both;\"></div></div><div class = \"data-frame\" style = \"overflow-x: scroll;\"><table class = \"data-frame\" style = \"margin-bottom: 6px;\"></table></div>"
      ],
      "text/latex": [
       "\\begin{tabular}{r|}\n",
       "\t& \\\\\n",
       "\t\\hline\n",
       "\t& \\\\\n",
       "\t\\hline\n",
       "\\end{tabular}\n"
      ],
      "text/plain": [
       "\u001b[1m0×0 DataFrame\u001b[0m"
      ]
     },
     "metadata": {},
     "output_type": "display_data"
    }
   ],
   "source": [
    "encoded_data = DataFrame()"
   ]
  },
  {
   "cell_type": "code",
   "execution_count": 6,
   "id": "2cfff1f3",
   "metadata": {
    "vscode": {
     "languageId": "julia"
    }
   },
   "outputs": [
    {
     "data": {
      "text/plain": [
       "Dict{Any, Any}()"
      ]
     },
     "metadata": {},
     "output_type": "display_data"
    }
   ],
   "source": [
    "encoders = Dict()"
   ]
  },
  {
   "cell_type": "code",
   "execution_count": 7,
   "id": "e91a9934",
   "metadata": {
    "vscode": {
     "languageId": "julia"
    }
   },
   "outputs": [],
   "source": [
    "for name in names(data)[1:end-1]\n",
    "    encoded, mapping = encode_column(data[!, name])\n",
    "    encoded_data[!, name] = encoded\n",
    "    encoders[name] = mapping\n",
    "end"
   ]
  },
  {
   "cell_type": "code",
   "execution_count": 8,
   "id": "362f174e",
   "metadata": {
    "vscode": {
     "languageId": "julia"
    }
   },
   "outputs": [
    {
     "data": {
      "text/plain": [
       "([0, 1, 0, 2, 0, 1, 0, 2, 0, 1  …  0, 0, 0, 1, 0, 2, 0, 1, 0, 0], Dict{String15, Int64}(\" hard\" => 2, \" no lenses\" => 0, \" soft\" => 1))"
      ]
     },
     "metadata": {},
     "output_type": "display_data"
    }
   ],
   "source": [
    "encoded_class, class_map = encode_column(data[!, end])"
   ]
  },
  {
   "cell_type": "code",
   "execution_count": 9,
   "id": "f8baff32",
   "metadata": {
    "vscode": {
     "languageId": "julia"
    }
   },
   "outputs": [
    {
     "data": {
      "text/plain": [
       "24-element Vector{Int64}:\n",
       " 0\n",
       " 1\n",
       " 0\n",
       " 2\n",
       " 0\n",
       " 1\n",
       " 0\n",
       " 2\n",
       " 0\n",
       " 1\n",
       " ⋮\n",
       " 0\n",
       " 0\n",
       " 1\n",
       " 0\n",
       " 2\n",
       " 0\n",
       " 1\n",
       " 0\n",
       " 0"
      ]
     },
     "metadata": {},
     "output_type": "display_data"
    }
   ],
   "source": [
    "y = Int.(encoded_class)"
   ]
  },
  {
   "cell_type": "code",
   "execution_count": 10,
   "id": "290a0fc4",
   "metadata": {
    "vscode": {
     "languageId": "julia"
    }
   },
   "outputs": [
    {
     "data": {
      "text/plain": [
       "my_entropy (generic function with 1 method)"
      ]
     },
     "metadata": {},
     "output_type": "display_data"
    }
   ],
   "source": [
    "function my_entropy(y)\n",
    "    n = length(y)\n",
    "    counts = countmap(y)\n",
    "    probs = [v / n for v in values(counts)]\n",
    "    return -sum(p * log2(p) for p in probs)\n",
    "end"
   ]
  },
  {
   "cell_type": "code",
   "execution_count": 11,
   "id": "548adf8c",
   "metadata": {
    "vscode": {
     "languageId": "julia"
    }
   },
   "outputs": [
    {
     "data": {
      "text/plain": [
       "1.384431504340598"
      ]
     },
     "metadata": {},
     "output_type": "display_data"
    }
   ],
   "source": [
    "total_entropy = my_entropy(y)"
   ]
  },
  {
   "cell_type": "code",
   "execution_count": 12,
   "id": "2dc322fb",
   "metadata": {
    "vscode": {
     "languageId": "julia"
    }
   },
   "outputs": [
    {
     "name": "stdout",
     "output_type": "stream",
     "text": [
      "Total Entropy: 1.384431504340598\n"
     ]
    }
   ],
   "source": [
    "println(\"Total Entropy: \", total_entropy)"
   ]
  },
  {
   "cell_type": "code",
   "execution_count": 13,
   "id": "4d2fc14c",
   "metadata": {
    "vscode": {
     "languageId": "julia"
    }
   },
   "outputs": [
    {
     "data": {
      "text/plain": [
       "information_gain (generic function with 1 method)"
      ]
     },
     "metadata": {},
     "output_type": "display_data"
    }
   ],
   "source": [
    "function information_gain(feature_col, y)\n",
    "    n = length(y)\n",
    "    parent_entropy = my_entropy(y)\n",
    "    values = unique(feature_col)\n",
    "    weighted_entropy = 0.0\n",
    "\n",
    "    for val in values\n",
    "        idx = findall(x -> x == val, feature_col)\n",
    "        subset_y = y[idx]\n",
    "        weight = length(subset_y) / n\n",
    "        weighted_entropy += weight * my_entropy(subset_y)\n",
    "    end\n",
    "\n",
    "    return parent_entropy - weighted_entropy\n",
    "end"
   ]
  },
  {
   "cell_type": "code",
   "execution_count": 14,
   "id": "0cc42c53",
   "metadata": {
    "vscode": {
     "languageId": "julia"
    }
   },
   "outputs": [
    {
     "name": "stdout",
     "output_type": "stream",
     "text": [
      "Information Gain Setiap Fitur:\n",
      " - Age           : 0.0186\n",
      " -  Spectacle   : 0.0401\n",
      " -  Astigmatism: 0.4253\n",
      " -  Tear   : 0.6549\n"
     ]
    }
   ],
   "source": [
    "println(\"Information Gain Setiap Fitur:\")\n",
    "for name in names(encoded_data)\n",
    "    gain = information_gain(encoded_data[!, name], y)\n",
    "    println(\" - \", name, \": \", round(gain, digits=4))\n",
    "end"
   ]
  },
  {
   "cell_type": "code",
   "execution_count": 15,
   "id": "bb7134f9",
   "metadata": {
    "vscode": {
     "languageId": "julia"
    }
   },
   "outputs": [
    {
     "data": {
      "text/plain": [
       "24×4 Matrix{Float64}:\n",
       " 0.0  0.0  0.0  0.0\n",
       " 0.0  0.0  0.0  1.0\n",
       " 0.0  0.0  1.0  0.0\n",
       " 0.0  0.0  1.0  1.0\n",
       " 0.0  1.0  0.0  0.0\n",
       " 0.0  1.0  0.0  1.0\n",
       " 0.0  1.0  1.0  0.0\n",
       " 0.0  1.0  1.0  1.0\n",
       " 1.0  0.0  0.0  0.0\n",
       " 1.0  0.0  0.0  1.0\n",
       " ⋮              \n",
       " 1.0  1.0  1.0  1.0\n",
       " 2.0  0.0  0.0  0.0\n",
       " 2.0  0.0  0.0  1.0\n",
       " 2.0  0.0  1.0  0.0\n",
       " 2.0  0.0  1.0  1.0\n",
       " 2.0  1.0  0.0  0.0\n",
       " 2.0  1.0  0.0  1.0\n",
       " 2.0  1.0  1.0  0.0\n",
       " 2.0  1.0  1.0  1.0"
      ]
     },
     "metadata": {},
     "output_type": "display_data"
    }
   ],
   "source": [
    "X = convert(Matrix{Float64}, Matrix(encoded_data))"
   ]
  },
  {
   "cell_type": "code",
   "execution_count": 16,
   "id": "1fb29ea9",
   "metadata": {
    "vscode": {
     "languageId": "julia"
    }
   },
   "outputs": [
    {
     "data": {
      "text/plain": [
       "Decision Tree\n",
       "Leaves: 5\n",
       "Depth:  4"
      ]
     },
     "metadata": {},
     "output_type": "display_data"
    }
   ],
   "source": [
    "model = build_tree(y, X, 4)"
   ]
  },
  {
   "cell_type": "code",
   "execution_count": 17,
   "id": "6c852eb4",
   "metadata": {
    "vscode": {
     "languageId": "julia"
    }
   },
   "outputs": [
    {
     "name": "stdout",
     "output_type": "stream",
     "text": [
      "Decision Tree:\n",
      "Feature 4: \" Tear   \" < 0.5 ?\n",
      "├─ 0 : 12/12\n",
      "└─ Feature 3: \" Astigmatism\" < 0.5 ?\n",
      "    ├─ 1 : 6/6\n",
      "    └─ Feature 2: \" Spectacle   \" < 0.5 ?\n",
      "        ├─ 2 : 3/3\n",
      "        └─ Feature 1: \"Age           \" < 0.5 ?\n",
      "            ├─ 2 : 1/1\n",
      "            └─ 0 : 2/2\n"
     ]
    }
   ],
   "source": [
    "println(\"Decision Tree:\")\n",
    "feature_names = names(encoded_data)\n",
    "print_tree(model, 5, feature_names=feature_names)"
   ]
  }
 ],
 "metadata": {
  "language_info": {
   "name": "python"
  }
 },
 "nbformat": 4,
 "nbformat_minor": 5
}
